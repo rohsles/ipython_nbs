{
 "cells": [
  {
   "cell_type": "code",
   "execution_count": 1,
   "metadata": {
    "collapsed": true
   },
   "outputs": [],
   "source": [
    "%matplotlib inline\n",
    "import pandas as pd\n",
    "import numpy as np\n",
    "import matplotlib.pyplot as plt\n",
    "\n",
    "# suppress warnings\n",
    "pd.options.mode.chained_assignment = None"
   ]
  },
  {
   "cell_type": "markdown",
   "metadata": {},
   "source": [
    "Goals: \n",
    "\n",
    "* Replicate the cool analysis by David Robinson here http://varianceexplained.org/r/trump-tweets/ but in Python\n",
    "* Mostly just for practice / exploring twitter data sets."
   ]
  },
  {
   "cell_type": "markdown",
   "metadata": {},
   "source": [
    "Pull in dataset - didn't want to both with Twitter authentication so I grabbed the R dataset \"http://varianceexplained.org/files/trump_tweets_df.rda\", converted it in R-Studio to a tsv file (using csv was a bad idea with twitter text) and pulled it into my local memory."
   ]
  },
  {
   "cell_type": "code",
   "execution_count": 2,
   "metadata": {
    "collapsed": false
   },
   "outputs": [],
   "source": [
    "data = pd.read_csv(\"/Users/soohyunroh/Documents/Personal/trump_tweets/trump_tweets_df.tsv\", sep=\"\\t\")"
   ]
  },
  {
   "cell_type": "markdown",
   "metadata": {},
   "source": [
    "Get a feel for the dataset. What are the data types, what does it look like, any weirdness?"
   ]
  },
  {
   "cell_type": "code",
   "execution_count": 3,
   "metadata": {
    "collapsed": false
   },
   "outputs": [
    {
     "name": "stderr",
     "output_type": "stream",
     "text": [
      "/Users/soohyunroh/.pyenv/versions/2.7.10/envs/jana-ipython/lib/python2.7/site-packages/numpy/lib/function_base.py:3834: RuntimeWarning: Invalid value encountered in percentile\n",
      "  RuntimeWarning)\n"
     ]
    },
    {
     "data": {
      "text/html": [
       "<div>\n",
       "<table border=\"1\" class=\"dataframe\">\n",
       "  <thead>\n",
       "    <tr style=\"text-align: right;\">\n",
       "      <th></th>\n",
       "      <th>id</th>\n",
       "      <th>replyToUID</th>\n",
       "      <th>retweetCount</th>\n",
       "      <th>longitude</th>\n",
       "      <th>latitude</th>\n",
       "    </tr>\n",
       "  </thead>\n",
       "  <tbody>\n",
       "    <tr>\n",
       "      <th>count</th>\n",
       "      <td>1.511000e+03</td>\n",
       "      <td>3.000000e+00</td>\n",
       "      <td>1511.000000</td>\n",
       "      <td>5.000000</td>\n",
       "      <td>5.000000</td>\n",
       "    </tr>\n",
       "    <tr>\n",
       "      <th>mean</th>\n",
       "      <td>7.305764e+17</td>\n",
       "      <td>1.468150e+08</td>\n",
       "      <td>6596.310390</td>\n",
       "      <td>-74.371430</td>\n",
       "      <td>40.702340</td>\n",
       "    </tr>\n",
       "    <tr>\n",
       "      <th>std</th>\n",
       "      <td>2.121922e+16</td>\n",
       "      <td>1.870245e+08</td>\n",
       "      <td>7222.911061</td>\n",
       "      <td>0.445840</td>\n",
       "      <td>0.065231</td>\n",
       "    </tr>\n",
       "    <tr>\n",
       "      <th>min</th>\n",
       "      <td>6.764942e+17</td>\n",
       "      <td>7.592510e+05</td>\n",
       "      <td>713.000000</td>\n",
       "      <td>-74.697119</td>\n",
       "      <td>40.654672</td>\n",
       "    </tr>\n",
       "    <tr>\n",
       "      <th>25%</th>\n",
       "      <td>NaN</td>\n",
       "      <td>NaN</td>\n",
       "      <td>NaN</td>\n",
       "      <td>NaN</td>\n",
       "      <td>NaN</td>\n",
       "    </tr>\n",
       "    <tr>\n",
       "      <th>50%</th>\n",
       "      <td>NaN</td>\n",
       "      <td>NaN</td>\n",
       "      <td>NaN</td>\n",
       "      <td>NaN</td>\n",
       "      <td>NaN</td>\n",
       "    </tr>\n",
       "    <tr>\n",
       "      <th>75%</th>\n",
       "      <td>NaN</td>\n",
       "      <td>NaN</td>\n",
       "      <td>NaN</td>\n",
       "      <td>NaN</td>\n",
       "      <td>NaN</td>\n",
       "    </tr>\n",
       "    <tr>\n",
       "      <th>max</th>\n",
       "      <td>7.626699e+17</td>\n",
       "      <td>3.576069e+08</td>\n",
       "      <td>169526.000000</td>\n",
       "      <td>-73.880775</td>\n",
       "      <td>40.777377</td>\n",
       "    </tr>\n",
       "  </tbody>\n",
       "</table>\n",
       "</div>"
      ],
      "text/plain": [
       "                 id    replyToUID   retweetCount  longitude   latitude\n",
       "count  1.511000e+03  3.000000e+00    1511.000000   5.000000   5.000000\n",
       "mean   7.305764e+17  1.468150e+08    6596.310390 -74.371430  40.702340\n",
       "std    2.121922e+16  1.870245e+08    7222.911061   0.445840   0.065231\n",
       "min    6.764942e+17  7.592510e+05     713.000000 -74.697119  40.654672\n",
       "25%             NaN           NaN            NaN        NaN        NaN\n",
       "50%             NaN           NaN            NaN        NaN        NaN\n",
       "75%             NaN           NaN            NaN        NaN        NaN\n",
       "max    7.626699e+17  3.576069e+08  169526.000000 -73.880775  40.777377"
      ]
     },
     "execution_count": 3,
     "metadata": {},
     "output_type": "execute_result"
    }
   ],
   "source": [
    "data.describe()"
   ]
  },
  {
   "cell_type": "code",
   "execution_count": 4,
   "metadata": {
    "collapsed": false
   },
   "outputs": [
    {
     "data": {
      "text/plain": [
       "text                0\n",
       "favorited           8\n",
       "favoriteCount       7\n",
       "replyToSN        1515\n",
       "created             7\n",
       "truncated           7\n",
       "replyToSID       1518\n",
       "id                  8\n",
       "replyToUID       1516\n",
       "statusSource        8\n",
       "screenName          8\n",
       "retweetCount        8\n",
       "isRetweet           8\n",
       "retweeted           8\n",
       "longitude        1514\n",
       "latitude         1514\n",
       "dtype: int64"
      ]
     },
     "execution_count": 4,
     "metadata": {},
     "output_type": "execute_result"
    }
   ],
   "source": [
    "# missing data in some of these columns is fine - won't worry about it now since i don't need those columns\n",
    "# TOOD: figure out why they're missing? was it always missing or messed up the import?\n",
    "data.isnull().sum()"
   ]
  },
  {
   "cell_type": "code",
   "execution_count": 5,
   "metadata": {
    "collapsed": false
   },
   "outputs": [
    {
     "data": {
      "text/plain": [
       "text              object\n",
       "favorited         object\n",
       "favoriteCount     object\n",
       "replyToSN         object\n",
       "created           object\n",
       "truncated         object\n",
       "replyToSID        object\n",
       "id               float64\n",
       "replyToUID       float64\n",
       "statusSource      object\n",
       "screenName        object\n",
       "retweetCount     float64\n",
       "isRetweet         object\n",
       "retweeted         object\n",
       "longitude        float64\n",
       "latitude         float64\n",
       "dtype: object"
      ]
     },
     "execution_count": 5,
     "metadata": {},
     "output_type": "execute_result"
    }
   ],
   "source": [
    "data.dtypes"
   ]
  },
  {
   "cell_type": "code",
   "execution_count": 6,
   "metadata": {
    "collapsed": false
   },
   "outputs": [
    {
     "data": {
      "text/html": [
       "<div>\n",
       "<table border=\"1\" class=\"dataframe\">\n",
       "  <thead>\n",
       "    <tr style=\"text-align: right;\">\n",
       "      <th></th>\n",
       "      <th>text</th>\n",
       "      <th>favorited</th>\n",
       "      <th>favoriteCount</th>\n",
       "      <th>replyToSN</th>\n",
       "      <th>created</th>\n",
       "      <th>truncated</th>\n",
       "      <th>replyToSID</th>\n",
       "      <th>id</th>\n",
       "      <th>replyToUID</th>\n",
       "      <th>statusSource</th>\n",
       "      <th>screenName</th>\n",
       "      <th>retweetCount</th>\n",
       "      <th>isRetweet</th>\n",
       "      <th>retweeted</th>\n",
       "      <th>longitude</th>\n",
       "      <th>latitude</th>\n",
       "    </tr>\n",
       "  </thead>\n",
       "  <tbody>\n",
       "    <tr>\n",
       "      <th>0</th>\n",
       "      <td>My economic policy speech will be carried live...</td>\n",
       "      <td>False</td>\n",
       "      <td>9214</td>\n",
       "      <td>NaN</td>\n",
       "      <td>2016-08-08 15:20:44</td>\n",
       "      <td>False</td>\n",
       "      <td>NaN</td>\n",
       "      <td>7.626699e+17</td>\n",
       "      <td>NaN</td>\n",
       "      <td>&lt;a href=\\http://twitter.com/download/android\\\"...</td>\n",
       "      <td>realDonaldTrump</td>\n",
       "      <td>3107.0</td>\n",
       "      <td>False</td>\n",
       "      <td>False</td>\n",
       "      <td>NaN</td>\n",
       "      <td>NaN</td>\n",
       "    </tr>\n",
       "    <tr>\n",
       "      <th>1</th>\n",
       "      <td>Join me in Fayetteville, North Carolina tomorr...</td>\n",
       "      <td>False</td>\n",
       "      <td>6981</td>\n",
       "      <td>NaN</td>\n",
       "      <td>2016-08-08 13:28:20</td>\n",
       "      <td>False</td>\n",
       "      <td>NaN</td>\n",
       "      <td>7.626416e+17</td>\n",
       "      <td>NaN</td>\n",
       "      <td>&lt;a href=\\http://twitter.com/download/iphone\\\" ...</td>\n",
       "      <td>realDonaldTrump</td>\n",
       "      <td>2390.0</td>\n",
       "      <td>False</td>\n",
       "      <td>False</td>\n",
       "      <td>NaN</td>\n",
       "      <td>NaN</td>\n",
       "    </tr>\n",
       "    <tr>\n",
       "      <th>2</th>\n",
       "      <td>#ICYMI: \\Will Media Apologize to Trump?\\\" http...</td>\n",
       "      <td>False</td>\n",
       "      <td>15724</td>\n",
       "      <td>NaN</td>\n",
       "      <td>2016-08-08 00:05:54</td>\n",
       "      <td>False</td>\n",
       "      <td>NaN</td>\n",
       "      <td>7.624397e+17</td>\n",
       "      <td>NaN</td>\n",
       "      <td>&lt;a href=\\http://twitter.com/download/iphone\\\" ...</td>\n",
       "      <td>realDonaldTrump</td>\n",
       "      <td>6691.0</td>\n",
       "      <td>False</td>\n",
       "      <td>False</td>\n",
       "      <td>NaN</td>\n",
       "      <td>NaN</td>\n",
       "    </tr>\n",
       "    <tr>\n",
       "      <th>3</th>\n",
       "      <td>Michael Morell, the lightweight former Acting ...</td>\n",
       "      <td>False</td>\n",
       "      <td>19837</td>\n",
       "      <td>NaN</td>\n",
       "      <td>2016-08-07 23:09:08</td>\n",
       "      <td>False</td>\n",
       "      <td>NaN</td>\n",
       "      <td>7.624254e+17</td>\n",
       "      <td>NaN</td>\n",
       "      <td>&lt;a href=\\http://twitter.com/download/android\\\"...</td>\n",
       "      <td>realDonaldTrump</td>\n",
       "      <td>6402.0</td>\n",
       "      <td>False</td>\n",
       "      <td>False</td>\n",
       "      <td>NaN</td>\n",
       "      <td>NaN</td>\n",
       "    </tr>\n",
       "    <tr>\n",
       "      <th>4</th>\n",
       "      <td>The media is going crazy. They totally distort...</td>\n",
       "      <td>False</td>\n",
       "      <td>34051</td>\n",
       "      <td>NaN</td>\n",
       "      <td>2016-08-07 21:31:46</td>\n",
       "      <td>False</td>\n",
       "      <td>NaN</td>\n",
       "      <td>7.624009e+17</td>\n",
       "      <td>NaN</td>\n",
       "      <td>&lt;a href=\\http://twitter.com/download/android\\\"...</td>\n",
       "      <td>realDonaldTrump</td>\n",
       "      <td>11717.0</td>\n",
       "      <td>False</td>\n",
       "      <td>False</td>\n",
       "      <td>NaN</td>\n",
       "      <td>NaN</td>\n",
       "    </tr>\n",
       "  </tbody>\n",
       "</table>\n",
       "</div>"
      ],
      "text/plain": [
       "                                                text favorited favoriteCount  \\\n",
       "0  My economic policy speech will be carried live...     False          9214   \n",
       "1  Join me in Fayetteville, North Carolina tomorr...     False          6981   \n",
       "2  #ICYMI: \\Will Media Apologize to Trump?\\\" http...     False         15724   \n",
       "3  Michael Morell, the lightweight former Acting ...     False         19837   \n",
       "4  The media is going crazy. They totally distort...     False         34051   \n",
       "\n",
       "  replyToSN              created truncated replyToSID            id  \\\n",
       "0       NaN  2016-08-08 15:20:44     False        NaN  7.626699e+17   \n",
       "1       NaN  2016-08-08 13:28:20     False        NaN  7.626416e+17   \n",
       "2       NaN  2016-08-08 00:05:54     False        NaN  7.624397e+17   \n",
       "3       NaN  2016-08-07 23:09:08     False        NaN  7.624254e+17   \n",
       "4       NaN  2016-08-07 21:31:46     False        NaN  7.624009e+17   \n",
       "\n",
       "   replyToUID                                       statusSource  \\\n",
       "0         NaN  <a href=\\http://twitter.com/download/android\\\"...   \n",
       "1         NaN  <a href=\\http://twitter.com/download/iphone\\\" ...   \n",
       "2         NaN  <a href=\\http://twitter.com/download/iphone\\\" ...   \n",
       "3         NaN  <a href=\\http://twitter.com/download/android\\\"...   \n",
       "4         NaN  <a href=\\http://twitter.com/download/android\\\"...   \n",
       "\n",
       "        screenName  retweetCount isRetweet retweeted  longitude  latitude  \n",
       "0  realDonaldTrump        3107.0     False     False        NaN       NaN  \n",
       "1  realDonaldTrump        2390.0     False     False        NaN       NaN  \n",
       "2  realDonaldTrump        6691.0     False     False        NaN       NaN  \n",
       "3  realDonaldTrump        6402.0     False     False        NaN       NaN  \n",
       "4  realDonaldTrump       11717.0     False     False        NaN       NaN  "
      ]
     },
     "execution_count": 6,
     "metadata": {},
     "output_type": "execute_result"
    }
   ],
   "source": [
    "data.head()"
   ]
  },
  {
   "cell_type": "code",
   "execution_count": 7,
   "metadata": {
    "collapsed": false
   },
   "outputs": [],
   "source": [
    "# filter to use only Android/iPhone dataset\n",
    "# use na=False to indicate that NaNs should return false instead of NaN (otherwise can't index)\n",
    "mobile_data = data[data.statusSource.str.contains(\"Android|iPhone\", na=False)]"
   ]
  },
  {
   "cell_type": "code",
   "execution_count": 9,
   "metadata": {
    "collapsed": true
   },
   "outputs": [],
   "source": [
    "android_tweets = mobile_data[mobile_data.statusSource.str.contains(\"Android\", na=False)]\n",
    "iphone_tweets = mobile_data[mobile_data.statusSource.str.contains(\"iPhone\", na=False)]"
   ]
  },
  {
   "cell_type": "markdown",
   "metadata": {},
   "source": [
    "Look into Android/iPhone tweets descriptive"
   ]
  },
  {
   "cell_type": "code",
   "execution_count": 11,
   "metadata": {
    "collapsed": false
   },
   "outputs": [],
   "source": [
    "# create hour column (looks like you can only do that when the timestamp is an index in pandas)\n",
    "mobile_data.index = pd.to_datetime(mobile_data['created'], box=True)\n",
    "# TODO: how to set the timezone correctly to EST instead of UTC\n",
    "mobile_data['hour_est'] = mobile_data.index.hour\n",
    "mobile_data = mobile_data.reset_index(drop=True)"
   ]
  },
  {
   "cell_type": "code",
   "execution_count": 12,
   "metadata": {
    "collapsed": false
   },
   "outputs": [],
   "source": [
    "# create column to specify the source\n",
    "mobile_data['source'] = 'Android'\n",
    "mobile_data['source'][mobile_data.statusSource.str.contains(\"iPhone\", na=False)] = 'iPhone'"
   ]
  },
  {
   "cell_type": "code",
   "execution_count": 13,
   "metadata": {
    "collapsed": false
   },
   "outputs": [],
   "source": [
    "# create column to specify if it has a picture\n",
    "mobile_data['has_picture_or_link'] = 0\n",
    "mobile_data['has_picture_or_link'][mobile_data.text.str.contains(\"t.co\", na=False)] = 1"
   ]
  },
  {
   "cell_type": "code",
   "execution_count": 14,
   "metadata": {
    "collapsed": false
   },
   "outputs": [
    {
     "data": {
      "text/plain": [
       "<matplotlib.text.Text at 0x113455f50>"
      ]
     },
     "execution_count": 14,
     "metadata": {},
     "output_type": "execute_result"
    },
    {
     "data": {
      "image/png": "[encoded data removed]",
      "text/plain": [
       "<matplotlib.figure.Figure at 0x1133b0490>"
      ]
     },
     "metadata": {},
     "output_type": "display_data"
    }
   ],
   "source": [
    "ax = pd.pivot_table(\n",
    "    data=mobile_data,\n",
    "    index='hour_est',\n",
    "    columns='source',\n",
    "    values=\"text\",\n",
    "    aggfunc=\"count\").plot()\n",
    "ax.set_ylabel(\"Tweets\")"
   ]
  },
  {
   "cell_type": "code",
   "execution_count": 15,
   "metadata": {
    "collapsed": false
   },
   "outputs": [
    {
     "data": {
      "text/plain": [
       "<matplotlib.text.Text at 0x1138046d0>"
      ]
     },
     "execution_count": 15,
     "metadata": {},
     "output_type": "execute_result"
    },
    {
     "data": {
      "image/png": "[encoded data removed]",
      "text/plain": [
       "<matplotlib.figure.Figure at 0x10fdd2f10>"
      ]
     },
     "metadata": {},
     "output_type": "display_data"
    }
   ],
   "source": [
    "ax = pd.pivot_table(\n",
    "    data=mobile_data,\n",
    "    index='has_picture_or_link',\n",
    "    columns='source',\n",
    "    values=\"text\",\n",
    "    aggfunc=\"count\").plot(kind=\"Bar\")\n",
    "ax.set_ylabel(\"Tweets\")"
   ]
  },
  {
   "cell_type": "markdown",
   "metadata": {},
   "source": [
    "Now to do some text analysis. Remove stopwords, punctuations, set to lowercase. Using the nltk package"
   ]
  },
  {
   "cell_type": "code",
   "execution_count": 16,
   "metadata": {
    "collapsed": false
   },
   "outputs": [],
   "source": [
    "from nltk.corpus import stopwords\n",
    "import re"
   ]
  },
  {
   "cell_type": "code",
   "execution_count": 17,
   "metadata": {
    "collapsed": false
   },
   "outputs": [],
   "source": [
    "cached_stop_words = stopwords.words(\"english\")"
   ]
  },
  {
   "cell_type": "code",
   "execution_count": 18,
   "metadata": {
    "collapsed": false
   },
   "outputs": [],
   "source": [
    "# I had stripped out stop words and punctuation and lowered but\n",
    "# countvectorizer in sklearn takes care of all of these so I don't need this anymore\n",
    "\n",
    "# strip out stop words\n",
    "# mobile_data['text_scrubbed'] = mobile_data.text.map(lambda x: ' '.join(word for word in str(x).lower().split()\n",
    "#                                                                       if word not in cached_stop_words))\n",
    "\n",
    "# strip out punctuations\n",
    "# mobile_data['text_scrubbed'] = mobile_data.text_scrubbed.map(lambda x: re.sub(\"[^A-Za-z0-9] \", \" \", x))"
   ]
  },
  {
   "cell_type": "code",
   "execution_count": 19,
   "metadata": {
    "collapsed": false
   },
   "outputs": [],
   "source": [
    "# remove links\n",
    "mobile_data['text_scrubbed'] = mobile_data.text.map(lambda x: re.sub(\"https://t.co/[A-Za-z\\\\d]+|&amp;\", \"\", x))"
   ]
  },
  {
   "cell_type": "code",
   "execution_count": 20,
   "metadata": {
    "collapsed": false
   },
   "outputs": [],
   "source": [
    "from sklearn.feature_extraction.text import CountVectorizer\n",
    "# create the countvectorizer \n",
    "word_vectorizer = CountVectorizer(stop_words='english', lowercase=True, ngram_range=(1,1))\n",
    "# fit/transform on the original text field\n",
    "sparse_matrix = word_vectorizer.fit_transform(mobile_data['text_scrubbed'])\n",
    "frequencies = sum(sparse_matrix).toarray()[0]\n",
    "word_frequencies = pd.DataFrame(frequencies, index=word_vectorizer.get_feature_names(), columns=['frequency'])"
   ]
  },
  {
   "cell_type": "code",
   "execution_count": 21,
   "metadata": {
    "collapsed": false
   },
   "outputs": [
    {
     "data": {
      "text/html": [
       "<div>\n",
       "<table border=\"1\" class=\"dataframe\">\n",
       "  <thead>\n",
       "    <tr style=\"text-align: right;\">\n",
       "      <th></th>\n",
       "      <th>frequency</th>\n",
       "    </tr>\n",
       "  </thead>\n",
       "  <tbody>\n",
       "    <tr>\n",
       "      <th>new</th>\n",
       "      <td>72</td>\n",
       "    </tr>\n",
       "    <tr>\n",
       "      <th>make</th>\n",
       "      <td>73</td>\n",
       "    </tr>\n",
       "    <tr>\n",
       "      <th>cruz</th>\n",
       "      <td>79</td>\n",
       "    </tr>\n",
       "    <tr>\n",
       "      <th>just</th>\n",
       "      <td>85</td>\n",
       "    </tr>\n",
       "    <tr>\n",
       "      <th>america</th>\n",
       "      <td>87</td>\n",
       "    </tr>\n",
       "    <tr>\n",
       "      <th>people</th>\n",
       "      <td>103</td>\n",
       "    </tr>\n",
       "    <tr>\n",
       "      <th>clinton</th>\n",
       "      <td>106</td>\n",
       "    </tr>\n",
       "    <tr>\n",
       "      <th>makeamericagreatagain</th>\n",
       "      <td>111</td>\n",
       "    </tr>\n",
       "    <tr>\n",
       "      <th>crooked</th>\n",
       "      <td>124</td>\n",
       "    </tr>\n",
       "    <tr>\n",
       "      <th>realdonaldtrump</th>\n",
       "      <td>126</td>\n",
       "    </tr>\n",
       "    <tr>\n",
       "      <th>trump</th>\n",
       "      <td>138</td>\n",
       "    </tr>\n",
       "    <tr>\n",
       "      <th>trump2016</th>\n",
       "      <td>186</td>\n",
       "    </tr>\n",
       "    <tr>\n",
       "      <th>hillary</th>\n",
       "      <td>197</td>\n",
       "    </tr>\n",
       "    <tr>\n",
       "      <th>great</th>\n",
       "      <td>206</td>\n",
       "    </tr>\n",
       "    <tr>\n",
       "      <th>thank</th>\n",
       "      <td>249</td>\n",
       "    </tr>\n",
       "  </tbody>\n",
       "</table>\n",
       "</div>"
      ],
      "text/plain": [
       "                       frequency\n",
       "new                           72\n",
       "make                          73\n",
       "cruz                          79\n",
       "just                          85\n",
       "america                       87\n",
       "people                       103\n",
       "clinton                      106\n",
       "makeamericagreatagain        111\n",
       "crooked                      124\n",
       "realdonaldtrump              126\n",
       "trump                        138\n",
       "trump2016                    186\n",
       "hillary                      197\n",
       "great                        206\n",
       "thank                        249"
      ]
     },
     "execution_count": 21,
     "metadata": {},
     "output_type": "execute_result"
    }
   ],
   "source": [
    "# sort the words\n",
    "word_frequencies = word_frequencies.sort_values(by='frequency', ascending=True)\n",
    "word_frequencies.tail(15)"
   ]
  },
  {
   "cell_type": "code",
   "execution_count": 22,
   "metadata": {
    "collapsed": false
   },
   "outputs": [
    {
     "data": {
      "text/plain": [
       "<matplotlib.text.Text at 0x115d35d10>"
      ]
     },
     "execution_count": 22,
     "metadata": {},
     "output_type": "execute_result"
    },
    {
     "data": {
      "image/png": "[encoded data removed]",
      "text/plain": [
       "<matplotlib.figure.Figure at 0x115c41690>"
      ]
     },
     "metadata": {},
     "output_type": "display_data"
    }
   ],
   "source": [
    "ax = word_frequencies.tail(15).plot(kind='barh', legend=False, figsize=(10, 7))\n",
    "ax.set_xlabel('Occurrences')\n",
    "ax.set_ylabel('Word')"
   ]
  },
  {
   "cell_type": "markdown",
   "metadata": {},
   "source": [
    "Common Words by Source using Log Odds Ratio"
   ]
  },
  {
   "cell_type": "code",
   "execution_count": 23,
   "metadata": {
    "collapsed": false
   },
   "outputs": [],
   "source": [
    "android_sparse_matrix = word_vectorizer.fit_transform(mobile_data[mobile_data.source == 'Android']['text_scrubbed'])\n",
    "android_frequencies = sum(android_sparse_matrix).toarray()[0]\n",
    "android_word_frequencies = pd.DataFrame(android_frequencies, index=word_vectorizer.get_feature_names(), columns=['frequency'])\n",
    "android_word_frequencies['source'] = 'Android'"
   ]
  },
  {
   "cell_type": "code",
   "execution_count": 24,
   "metadata": {
    "collapsed": false
   },
   "outputs": [],
   "source": [
    "iphone_sparse_matrix = word_vectorizer.fit_transform(mobile_data[mobile_data.source == 'iPhone']['text_scrubbed'])\n",
    "iphone_frequencies = sum(iphone_sparse_matrix).toarray()[0]\n",
    "iphone_word_frequencies = pd.DataFrame(iphone_frequencies, index=word_vectorizer.get_feature_names(), columns=['frequency'])\n",
    "iphone_word_frequencies['source'] = 'iPhone'"
   ]
  },
  {
   "cell_type": "code",
   "execution_count": 25,
   "metadata": {
    "collapsed": false
   },
   "outputs": [],
   "source": [
    "word_freq_source = pd.concat([android_word_frequencies, iphone_word_frequencies])"
   ]
  },
  {
   "cell_type": "code",
   "execution_count": 27,
   "metadata": {
    "collapsed": false
   },
   "outputs": [],
   "source": [
    "word_freq_source_pv = pd.pivot_table(data=word_freq_source,\n",
    "                                     index=word_freq_source.index,\n",
    "                                     values='frequency',\n",
    "                                     columns='source').fillna(0)"
   ]
  },
  {
   "cell_type": "code",
   "execution_count": 28,
   "metadata": {
    "collapsed": false
   },
   "outputs": [],
   "source": [
    "word_freq_source_pv['log_odds_ratio'] = np.log2(((word_freq_source_pv['Android'] + 1) / (word_freq_source_pv['Android'].sum() + 1))/\n",
    "                                        ((word_freq_source_pv['iPhone'] + 1) / (word_freq_source_pv['iPhone'].sum() + 1)))"
   ]
  },
  {
   "cell_type": "code",
   "execution_count": 29,
   "metadata": {
    "collapsed": false
   },
   "outputs": [],
   "source": [
    "top_10_iphone = word_freq_source_pv.sort_values(by='log_odds_ratio', ascending=True).head(10)\n",
    "top_10_android = word_freq_source_pv.sort_values(by='log_odds_ratio', ascending=False).head(10)\n",
    "top_20 = pd.concat([top_10_iphone, top_10_android])"
   ]
  },
  {
   "cell_type": "code",
   "execution_count": 30,
   "metadata": {
    "collapsed": false
   },
   "outputs": [
    {
     "data": {
      "text/plain": [
       "<matplotlib.legend.Legend at 0x116029490>"
      ]
     },
     "execution_count": 30,
     "metadata": {},
     "output_type": "execute_result"
    },
    {
     "data": {
      "image/png": "[encoded data removed]",
      "text/plain": [
       "<matplotlib.figure.Figure at 0x115e3ea90>"
      ]
     },
     "metadata": {},
     "output_type": "display_data"
    }
   ],
   "source": [
    "import matplotlib.patches as mpatches\n",
    "ax = top_20['log_odds_ratio'].plot(kind='barh',\n",
    "                                   color=['r']*10+['b']*10,\n",
    "                                   figsize=(10,7))\n",
    "ax.set_xlabel('Log Odds Ratio')\n",
    "ax.set_ylabel('Word')\n",
    "ax.legend([], ['Android', 'iPhone'])\n",
    "\n",
    "Android = mpatches.Patch(color='b', label='Android')\n",
    "iPhone = mpatches.Patch(color='r', label='iPhone')\n",
    "ax.legend(handles=[Android, iPhone], loc=2)"
   ]
  },
  {
   "cell_type": "markdown",
   "metadata": {},
   "source": [
    "Sentiment Analysis using NRC Emotion Lexicon"
   ]
  },
  {
   "cell_type": "code",
   "execution_count": 31,
   "metadata": {
    "collapsed": false
   },
   "outputs": [],
   "source": [
    "nrc = pd.read_csv(\"/Users/soohyunroh/Documents/Personal/trump_tweets/nrc_lexicon.txt\", sep=\"\\t\")\n",
    "nrc = nrc[nrc.flag == 1][['word', 'emotion']]"
   ]
  },
  {
   "cell_type": "code",
   "execution_count": 32,
   "metadata": {
    "collapsed": false
   },
   "outputs": [
    {
     "data": {
      "text/html": [
       "<div>\n",
       "<table border=\"1\" class=\"dataframe\">\n",
       "  <thead>\n",
       "    <tr style=\"text-align: right;\">\n",
       "      <th></th>\n",
       "      <th>word</th>\n",
       "      <th>emotion</th>\n",
       "    </tr>\n",
       "  </thead>\n",
       "  <tbody>\n",
       "    <tr>\n",
       "      <th>19</th>\n",
       "      <td>abacus</td>\n",
       "      <td>trust</td>\n",
       "    </tr>\n",
       "    <tr>\n",
       "      <th>23</th>\n",
       "      <td>abandon</td>\n",
       "      <td>fear</td>\n",
       "    </tr>\n",
       "    <tr>\n",
       "      <th>25</th>\n",
       "      <td>abandon</td>\n",
       "      <td>negative</td>\n",
       "    </tr>\n",
       "    <tr>\n",
       "      <th>27</th>\n",
       "      <td>abandon</td>\n",
       "      <td>sadness</td>\n",
       "    </tr>\n",
       "    <tr>\n",
       "      <th>30</th>\n",
       "      <td>abandoned</td>\n",
       "      <td>anger</td>\n",
       "    </tr>\n",
       "  </tbody>\n",
       "</table>\n",
       "</div>"
      ],
      "text/plain": [
       "         word   emotion\n",
       "19     abacus     trust\n",
       "23    abandon      fear\n",
       "25    abandon  negative\n",
       "27    abandon   sadness\n",
       "30  abandoned     anger"
      ]
     },
     "execution_count": 32,
     "metadata": {},
     "output_type": "execute_result"
    }
   ],
   "source": [
    "nrc.head()"
   ]
  },
  {
   "cell_type": "code",
   "execution_count": 33,
   "metadata": {
    "collapsed": false
   },
   "outputs": [],
   "source": [
    "word_freq_source = word_freq_source.reset_index()\n",
    "word_emotion = pd.merge(word_freq_source, nrc, how='inner', left_on='index', right_on='word')\n",
    "del word_emotion['index']"
   ]
  },
  {
   "cell_type": "code",
   "execution_count": 35,
   "metadata": {
    "collapsed": false
   },
   "outputs": [],
   "source": [
    "word_freq_source_pv.reset_index(inplace=True)"
   ]
  },
  {
   "cell_type": "code",
   "execution_count": 36,
   "metadata": {
    "collapsed": false
   },
   "outputs": [],
   "source": [
    "word_emotion_odds = pd.merge(word_emotion,\n",
    "                             word_freq_source_pv[['index', 'log_odds_ratio']],\n",
    "                             how='inner',\n",
    "                             left_on='word',\n",
    "                             right_on=word_freq_source_pv['index'])\n",
    "del word_emotion_odds['index']"
   ]
  },
  {
   "cell_type": "code",
   "execution_count": 101,
   "metadata": {
    "collapsed": true
   },
   "outputs": [],
   "source": [
    "# keep rows where log odds ratio is positive and source = Android\n",
    "# keep rows where log odds ratio is negative and source = iPhone\n",
    "word_emotion_odds = word_emotion_odds[((word_emotion_odds.source == \"Android\") & (word_emotion_odds.log_odds_ratio > 0)) |\n",
    "                                      ((word_emotion_odds.source == \"iPhone\") & (word_emotion_odds.log_odds_ratio < 0))]"
   ]
  },
  {
   "cell_type": "code",
   "execution_count": 37,
   "metadata": {
    "collapsed": true
   },
   "outputs": [],
   "source": [
    "# for each emotion, take the ten words, source with the highest magnitude log odds ratio\n",
    "# first take the absolute value of the log odds ratio\n",
    "word_emotion_odds['log_odds_ratio_abs'] = abs(word_emotion_odds['log_odds_ratio'])"
   ]
  },
  {
   "cell_type": "code",
   "execution_count": 102,
   "metadata": {
    "collapsed": false
   },
   "outputs": [],
   "source": [
    "top_words_index = [item[1] for item in word_emotion_odds.groupby('emotion')['log_odds_ratio_abs'].nlargest(10).index.values]"
   ]
  },
  {
   "cell_type": "code",
   "execution_count": 103,
   "metadata": {
    "collapsed": false
   },
   "outputs": [],
   "source": [
    "emotion_data = word_emotion_odds.loc[top_words_index]\n",
    "emotion_data['positive'] = emotion_data['log_odds_ratio'] > 0"
   ]
  },
  {
   "cell_type": "code",
   "execution_count": 40,
   "metadata": {
    "collapsed": true
   },
   "outputs": [],
   "source": [
    "import matplotlib.pyplot as pyplot\n",
    "import matplotlib\n",
    "import seaborn"
   ]
  },
  {
   "cell_type": "code",
   "execution_count": 106,
   "metadata": {
    "collapsed": false
   },
   "outputs": [
    {
     "data": {
      "text/plain": [
       "<matplotlib.legend.Legend at 0x11a5444d0>"
      ]
     },
     "execution_count": 106,
     "metadata": {},
     "output_type": "execute_result"
    },
    {
     "data": {
      "image/png": "[encoded data removed]",
      "text/plain": [
       "<matplotlib.figure.Figure at 0x11aec8610>"
      ]
     },
     "metadata": {},
     "output_type": "display_data"
    }
   ],
   "source": [
    "figure = pyplot.figure()\n",
    "\n",
    "for k, emotion in enumerate(emotion_data.emotion.unique()):\n",
    "    ax = figure.add_subplot(3, 5, k+1)\n",
    "    data = emotion_data[emotion_data.emotion == emotion].sort_values(by=\"log_odds_ratio\", ascending=False)\n",
    "    ax = data.plot.bar(x=\"word\", y=\"log_odds_ratio\", ax=pyplot.gca(), sharey=ax, color=data.source.map({\"iPhone\": 'r', \"Android\": 'b'}))\n",
    "    ax.get_legend().set_visible(False)\n",
    "    ax.set_ylim([-3.5, 3.5])\n",
    "    ax.set_title(emotion)\n",
    "    ax.set_xlabel('')\n",
    "    \n",
    "figure.set_size_inches(15,15)\n",
    "figure.tight_layout()\n",
    "\n",
    "Android = mpatches.Patch(color='b', label='Android')\n",
    "iPhone = mpatches.Patch(color='r', label='iPhone')\n",
    "ax.legend(handles=[Android, iPhone])"
   ]
  },
  {
   "cell_type": "code",
   "execution_count": null,
   "metadata": {
    "collapsed": true
   },
   "outputs": [],
   "source": []
  }
 ],
 "metadata": {
  "kernelspec": {
   "display_name": "Python 2",
   "language": "python",
   "name": "python2"
  },
  "language_info": {
   "codemirror_mode": {
    "name": "ipython",
    "version": 2
   },
   "file_extension": ".py",
   "mimetype": "text/x-python",
   "name": "python",
   "nbconvert_exporter": "python",
   "pygments_lexer": "ipython2",
   "version": "2.7.10"
  }
 },
 "nbformat": 4,
 "nbformat_minor": 0
}
