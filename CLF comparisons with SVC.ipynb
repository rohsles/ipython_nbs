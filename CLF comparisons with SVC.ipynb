{
 "cells": [
  {
   "cell_type": "markdown",
   "metadata": {},
   "source": [
    "* Duplicating analysis in http://blog.yhat.com/posts/why-support-vector-machine.html\n",
    "* Additionally checked comparison across grid search/accuracy metrics"
   ]
  },
  {
   "cell_type": "code",
   "execution_count": 2,
   "metadata": {
    "ExecuteTime": {
     "end_time": "2017-08-07T01:58:50.711141Z",
     "start_time": "2017-08-06T21:58:50.544147-04:00"
    },
    "collapsed": true
   },
   "outputs": [],
   "source": [
    "import numpy as np\n",
    "import pylab as pl\n",
    "import pandas as pd\n",
    "from sklearn import svm\n",
    "from sklearn import linear_model\n",
    "from sklearn import tree\n",
    "from sklearn.metrics import confusion_matrix, classification_report\n",
    "from sklearn.model_selection import train_test_split\n",
    "from sklearn.model_selection import GridSearchCV\n",
    "\n",
    "import warnings\n",
    "warnings.filterwarnings('ignore')"
   ]
  },
  {
   "cell_type": "markdown",
   "metadata": {},
   "source": [
    "## Cows and Wolves"
   ]
  },
  {
   "cell_type": "code",
   "execution_count": 2,
   "metadata": {
    "ExecuteTime": {
     "end_time": "2017-08-06T01:04:31.703419Z",
     "start_time": "2017-08-05T21:04:31.695086-04:00"
    },
    "collapsed": true
   },
   "outputs": [],
   "source": [
    "# open cows and wolves text\n",
    "# add animal coordinates to df with animal type classifier as 0/1\n",
    "\n",
    "data = open('cows_and_wolves.txt').read()\n",
    "data = [item.split('\\t') for item in data.strip().split('\\n')]"
   ]
  },
  {
   "cell_type": "code",
   "execution_count": 3,
   "metadata": {
    "ExecuteTime": {
     "end_time": "2017-08-06T01:04:31.850431Z",
     "start_time": "2017-08-05T21:04:31.802817-04:00"
    },
    "collapsed": false
   },
   "outputs": [],
   "source": [
    "animals = []\n",
    "\n",
    "for i, row in enumerate(data):\n",
    "    for j, item in enumerate(row):\n",
    "        if item in ['o', 'x']:\n",
    "            animals.append((i, j, item))"
   ]
  },
  {
   "cell_type": "code",
   "execution_count": 4,
   "metadata": {
    "ExecuteTime": {
     "end_time": "2017-08-06T01:04:31.867220Z",
     "start_time": "2017-08-05T21:04:31.853870-04:00"
    },
    "collapsed": true
   },
   "outputs": [],
   "source": [
    "df = pd.DataFrame(animals, columns=['x', 'y', 'animal'])\n",
    "df['animal_type'] = df.animal.apply(lambda x: 1 if x=='x' else 0)"
   ]
  },
  {
   "cell_type": "code",
   "execution_count": 5,
   "metadata": {
    "ExecuteTime": {
     "end_time": "2017-08-06T01:04:31.894558Z",
     "start_time": "2017-08-05T21:04:31.871580-04:00"
    },
    "collapsed": false
   },
   "outputs": [
    {
     "data": {
      "text/html": [
       "<div>\n",
       "<table border=\"1\" class=\"dataframe\">\n",
       "  <thead>\n",
       "    <tr style=\"text-align: right;\">\n",
       "      <th></th>\n",
       "      <th>x</th>\n",
       "      <th>y</th>\n",
       "      <th>animal</th>\n",
       "      <th>animal_type</th>\n",
       "    </tr>\n",
       "  </thead>\n",
       "  <tbody>\n",
       "    <tr>\n",
       "      <th>0</th>\n",
       "      <td>0</td>\n",
       "      <td>0</td>\n",
       "      <td>o</td>\n",
       "      <td>0</td>\n",
       "    </tr>\n",
       "    <tr>\n",
       "      <th>1</th>\n",
       "      <td>0</td>\n",
       "      <td>2</td>\n",
       "      <td>o</td>\n",
       "      <td>0</td>\n",
       "    </tr>\n",
       "    <tr>\n",
       "      <th>2</th>\n",
       "      <td>0</td>\n",
       "      <td>4</td>\n",
       "      <td>o</td>\n",
       "      <td>0</td>\n",
       "    </tr>\n",
       "    <tr>\n",
       "      <th>3</th>\n",
       "      <td>1</td>\n",
       "      <td>1</td>\n",
       "      <td>o</td>\n",
       "      <td>0</td>\n",
       "    </tr>\n",
       "    <tr>\n",
       "      <th>4</th>\n",
       "      <td>1</td>\n",
       "      <td>4</td>\n",
       "      <td>x</td>\n",
       "      <td>1</td>\n",
       "    </tr>\n",
       "  </tbody>\n",
       "</table>\n",
       "</div>"
      ],
      "text/plain": [
       "   x  y animal  animal_type\n",
       "0  0  0      o            0\n",
       "1  0  2      o            0\n",
       "2  0  4      o            0\n",
       "3  1  1      o            0\n",
       "4  1  4      x            1"
      ]
     },
     "execution_count": 5,
     "metadata": {},
     "output_type": "execute_result"
    }
   ],
   "source": [
    "df.head()"
   ]
  },
  {
   "cell_type": "code",
   "execution_count": 6,
   "metadata": {
    "ExecuteTime": {
     "end_time": "2017-08-06T01:04:31.909798Z",
     "start_time": "2017-08-05T21:04:31.901396-04:00"
    },
    "collapsed": true
   },
   "outputs": [],
   "source": [
    "# set train and test columns\n",
    "# set classifier models to train on\n",
    "# plot the prediction of all points based on these\n",
    "\n",
    "train_cols = ['x', 'y']\n",
    "\n",
    "clfs = {\n",
    "    'svm': svm.SVC(),\n",
    "    'decision tree': tree.DecisionTreeClassifier(),\n",
    "    'logistic': linear_model.LogisticRegression(),\n",
    "}"
   ]
  },
  {
   "cell_type": "code",
   "execution_count": 7,
   "metadata": {
    "ExecuteTime": {
     "end_time": "2017-08-06T01:04:32.001346Z",
     "start_time": "2017-08-05T21:04:31.913606-04:00"
    },
    "collapsed": true
   },
   "outputs": [],
   "source": [
    "def plot_results_with_hyperplane(clf, clf_name, df, plt_nmbr):\n",
    "    x_min, x_max = df.x.min() - .5, df.x.max() + .5\n",
    "    y_min, y_max = df.y.min() - .5, df.y.max() + .5\n",
    "\n",
    "    step = .02\n",
    "    xx, yy = np.meshgrid(np.arange(x_min, x_max, step), np.arange(y_min, y_max, step))\n",
    "\n",
    "    Z = clf.predict(np.c_[xx.ravel(), yy.ravel()])\n",
    "    Z = Z.reshape(xx.shape)\n",
    "\n",
    "    pl.subplot(2, 2, plt_nmbr)\n",
    "    pl.pcolormesh(xx, yy, Z, cmap=pl.cm.Paired)\n",
    "\n",
    "    for animal in df.animal.unique():\n",
    "        pl.scatter(df[df.animal==animal].x,\n",
    "                   df[df.animal==animal].y,\n",
    "                   marker=animal,\n",
    "                   label=\"cows\" if animal==\"x\" else \"wolves\",\n",
    "                   color='black')\n",
    "    pl.title(clf_name)\n",
    "    pl.legend(loc=\"best\")\n"
   ]
  },
  {
   "cell_type": "code",
   "execution_count": 8,
   "metadata": {
    "ExecuteTime": {
     "end_time": "2017-08-06T01:04:33.810046Z",
     "start_time": "2017-08-05T21:04:32.021934-04:00"
    },
    "collapsed": false
   },
   "outputs": [
    {
     "data": {
      "image/png": "[encoded data removed]",
      "text/plain": [
       "<matplotlib.figure.Figure at 0x10ff84c90>"
      ]
     },
     "metadata": {},
     "output_type": "display_data"
    }
   ],
   "source": [
    "plt_nmbr = 1\n",
    "for clf_name, clf in clfs.iteritems():\n",
    "    clf.fit(df[train_cols], df.animal_type)\n",
    "    plot_results_with_hyperplane(clf, clf_name, df, plt_nmbr)\n",
    "    plt_nmbr += 1\n",
    "pl.gcf().set_size_inches(15,10)\n",
    "pl.show()"
   ]
  },
  {
   "cell_type": "markdown",
   "metadata": {},
   "source": [
    "## Flag of Bangladesh"
   ]
  },
  {
   "cell_type": "code",
   "execution_count": 3,
   "metadata": {
    "ExecuteTime": {
     "end_time": "2017-08-07T01:58:54.571976Z",
     "start_time": "2017-08-06T21:58:54.566355-04:00"
    },
    "collapsed": false
   },
   "outputs": [],
   "source": [
    "x_min, x_max = 0, 15\n",
    "y_min, y_max = 0, 10\n",
    "step = .1\n",
    "\n",
    "xx, yy = np.meshgrid(np.arange(x_min, x_max, step), np.arange(y_min, y_max, step))"
   ]
  },
  {
   "cell_type": "code",
   "execution_count": 4,
   "metadata": {
    "ExecuteTime": {
     "end_time": "2017-08-07T01:58:57.168793Z",
     "start_time": "2017-08-06T21:58:57.164142-04:00"
    },
    "collapsed": false
   },
   "outputs": [],
   "source": [
    "df = pd.DataFrame(data={'x': xx.ravel(), 'y': yy.ravel()})"
   ]
  },
  {
   "cell_type": "code",
   "execution_count": 5,
   "metadata": {
    "ExecuteTime": {
     "end_time": "2017-08-07T01:58:59.332954Z",
     "start_time": "2017-08-06T21:58:59.315557-04:00"
    },
    "collapsed": true
   },
   "outputs": [],
   "source": [
    "df['color_gauge'] = (df.x-7.5)**2 + (df.y-5)**2\n",
    "df['color'] = df.color_gauge.apply(lambda x: 'red' if x <= 15 else 'green')\n",
    "df['color_as_int'] = df.color.apply(lambda x: 0 if x=='red' else 1)"
   ]
  },
  {
   "cell_type": "code",
   "execution_count": 6,
   "metadata": {
    "ExecuteTime": {
     "end_time": "2017-08-07T01:59:01.125988Z",
     "start_time": "2017-08-06T21:59:01.116868-04:00"
    },
    "collapsed": false
   },
   "outputs": [
    {
     "name": "stdout",
     "output_type": "stream",
     "text": [
      "Points on flag\n",
      "color\n",
      "green    10291\n",
      "red       4709\n",
      "dtype: int64\n",
      "\n"
     ]
    }
   ],
   "source": [
    "print \"Points on flag\"\n",
    "print df.groupby('color').size()\n",
    "print"
   ]
  },
  {
   "cell_type": "code",
   "execution_count": 7,
   "metadata": {
    "ExecuteTime": {
     "end_time": "2017-08-07T01:59:03.329200Z",
     "start_time": "2017-08-06T21:59:03.320887-04:00"
    },
    "collapsed": true
   },
   "outputs": [],
   "source": [
    "train_idx = df.x < 10\n",
    "\n",
    "train = df[train_idx]\n",
    "test = df[-train_idx]"
   ]
  },
  {
   "cell_type": "code",
   "execution_count": 8,
   "metadata": {
    "ExecuteTime": {
     "end_time": "2017-08-07T00:36:44.295651Z",
     "start_time": "2017-08-06T20:36:44.290219-04:00"
    },
    "collapsed": false
   },
   "outputs": [
    {
     "name": "stdout",
     "output_type": "stream",
     "text": [
      "Training data set: 10000\n",
      "Test data set: 5000\n"
     ]
    }
   ],
   "source": [
    "print \"Training data set: \" + str(len(train))\n",
    "print \"Test data set: \" + str(len(test))"
   ]
  },
  {
   "cell_type": "code",
   "execution_count": 8,
   "metadata": {
    "ExecuteTime": {
     "end_time": "2017-08-07T01:59:11.244635Z",
     "start_time": "2017-08-06T21:59:11.241583-04:00"
    },
    "collapsed": true
   },
   "outputs": [],
   "source": [
    "cols = ['x', 'y']"
   ]
  },
  {
   "cell_type": "code",
   "execution_count": 9,
   "metadata": {
    "ExecuteTime": {
     "end_time": "2017-08-07T01:59:12.355061Z",
     "start_time": "2017-08-06T21:59:12.350400-04:00"
    },
    "collapsed": true
   },
   "outputs": [],
   "source": [
    "clfs = {\n",
    "    'svm': svm.SVC(degree=0.5),\n",
    "    'logistic': linear_model.LogisticRegression(),\n",
    "    'decision_tree': tree.DecisionTreeClassifier()\n",
    "}"
   ]
  },
  {
   "cell_type": "code",
   "execution_count": 10,
   "metadata": {
    "ExecuteTime": {
     "end_time": "2017-08-07T01:59:19.621434Z",
     "start_time": "2017-08-06T21:59:17.307111-04:00"
    },
    "collapsed": false
   },
   "outputs": [
    {
     "name": "stdout",
     "output_type": "stream",
     "text": [
      "Confusion matrix for decision_tree:\n",
      "[[1950 2458]\n",
      " [   0  592]]\n",
      "Confusion matrix for svm:\n",
      "[[4320   88]\n",
      " [  29  563]]\n",
      "Confusion matrix for logistic:\n",
      "[[   0 4408]\n",
      " [   0  592]]\n"
     ]
    },
    {
     "data": {
      "image/png": "[encoded data removed]",
      "text/plain": [
       "<matplotlib.figure.Figure at 0x10d9d6050>"
      ]
     },
     "metadata": {},
     "output_type": "display_data"
    }
   ],
   "source": [
    "figure = 1\n",
    "\n",
    "for clf_name, clf in clfs.items():\n",
    "\n",
    "    for color in df.color.unique():\n",
    "        idx = df.color==color\n",
    "        pl.subplot(2, 2, 1)\n",
    "        pl.scatter(df[idx].x, df[idx].y, color=color)\n",
    "        pl.title('Actual')    \n",
    "\n",
    "    figure += 1\n",
    "    \n",
    "    clf.fit(train[cols], train['color_as_int'])\n",
    "    test['predicted_color_as_int'] = clf.predict(test[cols])\n",
    "    test['predicted_color'] = test['predicted_color_as_int'].apply(lambda x: 'red' if x==0 else 'green')\n",
    "    \n",
    "    pl.subplot(2, 2, figure)\n",
    "\n",
    "    for color in test.predicted_color.unique():\n",
    "        idx = test.predicted_color==color\n",
    "        pl.scatter(test[idx].x, test[idx].y, color=color)\n",
    "    \n",
    "    for color in train.color.unique():\n",
    "        idx = train.color==color\n",
    "        pl.scatter(train[idx].x, train[idx].y, color=color)\n",
    "        \n",
    "    train_line_y = np.linspace(0, 10)\n",
    "    train_line_x = np.repeat(10, len(train_line_y))\n",
    "    \n",
    "    pl.plot(train_line_x, train_line_y, 'k--', color='black')\n",
    "    \n",
    "    pl.title(clf_name)\n",
    "    \n",
    "    print \"Confusion matrix for %s:\" % clf_name\n",
    "    print confusion_matrix(test.color, test.predicted_color)\n",
    "\n",
    "pl.gcf().set_size_inches(15,10)\n",
    "pl.show()"
   ]
  },
  {
   "cell_type": "markdown",
   "metadata": {},
   "source": [
    "### Tune Parameters for SVC"
   ]
  },
  {
   "cell_type": "code",
   "execution_count": 11,
   "metadata": {
    "ExecuteTime": {
     "end_time": "2017-08-07T01:59:57.155241Z",
     "start_time": "2017-08-06T21:59:57.149196-04:00"
    },
    "collapsed": true
   },
   "outputs": [],
   "source": [
    "X_train, X_test, y_train, y_test = train[cols], test[cols], train['color_as_int'], test['color_as_int']"
   ]
  },
  {
   "cell_type": "code",
   "execution_count": 14,
   "metadata": {
    "ExecuteTime": {
     "end_time": "2017-08-07T02:01:14.856126Z",
     "start_time": "2017-08-06T22:00:54.358667-04:00"
    },
    "collapsed": false
   },
   "outputs": [
    {
     "name": "stdout",
     "output_type": "stream",
     "text": [
      "# Tuning hyper-parameters for precision\n",
      "()\n",
      "Best parameters set found on development set:\n",
      "()\n",
      "{'kernel': 'rbf', 'C': 100, 'degree': 0.1}\n",
      "()\n",
      "0.891 (+/-0.048) for {'kernel': 'rbf', 'C': 1, 'degree': 0.1}\n",
      "0.891 (+/-0.048) for {'kernel': 'rbf', 'C': 1, 'degree': 0.5}\n",
      "0.891 (+/-0.048) for {'kernel': 'rbf', 'C': 1, 'degree': 2}\n",
      "0.891 (+/-0.048) for {'kernel': 'rbf', 'C': 1, 'degree': 3}\n",
      "0.894 (+/-0.053) for {'kernel': 'rbf', 'C': 10, 'degree': 0.1}\n",
      "0.894 (+/-0.053) for {'kernel': 'rbf', 'C': 10, 'degree': 0.5}\n",
      "0.894 (+/-0.053) for {'kernel': 'rbf', 'C': 10, 'degree': 2}\n",
      "0.894 (+/-0.053) for {'kernel': 'rbf', 'C': 10, 'degree': 3}\n",
      "0.894 (+/-0.077) for {'kernel': 'rbf', 'C': 100, 'degree': 0.1}\n",
      "0.894 (+/-0.077) for {'kernel': 'rbf', 'C': 100, 'degree': 0.5}\n",
      "0.894 (+/-0.077) for {'kernel': 'rbf', 'C': 100, 'degree': 2}\n",
      "0.894 (+/-0.077) for {'kernel': 'rbf', 'C': 100, 'degree': 3}\n",
      "0.864 (+/-0.051) for {'kernel': 'rbf', 'C': 1000, 'degree': 0.1}\n",
      "0.864 (+/-0.051) for {'kernel': 'rbf', 'C': 1000, 'degree': 0.5}\n",
      "0.864 (+/-0.051) for {'kernel': 'rbf', 'C': 1000, 'degree': 2}\n",
      "0.864 (+/-0.051) for {'kernel': 'rbf', 'C': 1000, 'degree': 3}\n",
      "()\n",
      "Detailed classification report:\n",
      "()\n",
      "The model is trained on the full development set.\n",
      "The scores are computed on the full evaluation set.\n",
      "()\n",
      "             precision    recall  f1-score   support\n",
      "\n",
      "          0       0.96      0.68      0.79       592\n",
      "          1       0.96      1.00      0.98      4408\n",
      "\n",
      "avg / total       0.96      0.96      0.96      5000\n",
      "\n",
      "()\n",
      "# Tuning hyper-parameters for recall\n",
      "()\n",
      "Best parameters set found on development set:\n",
      "()\n",
      "{'kernel': 'rbf', 'C': 10, 'degree': 0.1}\n",
      "()\n",
      "0.846 (+/-0.187) for {'kernel': 'rbf', 'C': 1, 'degree': 0.1}\n",
      "0.846 (+/-0.187) for {'kernel': 'rbf', 'C': 1, 'degree': 0.5}\n",
      "0.846 (+/-0.187) for {'kernel': 'rbf', 'C': 1, 'degree': 2}\n",
      "0.846 (+/-0.187) for {'kernel': 'rbf', 'C': 1, 'degree': 3}\n",
      "0.850 (+/-0.184) for {'kernel': 'rbf', 'C': 10, 'degree': 0.1}\n",
      "0.850 (+/-0.184) for {'kernel': 'rbf', 'C': 10, 'degree': 0.5}\n",
      "0.850 (+/-0.184) for {'kernel': 'rbf', 'C': 10, 'degree': 2}\n",
      "0.850 (+/-0.184) for {'kernel': 'rbf', 'C': 10, 'degree': 3}\n",
      "0.845 (+/-0.208) for {'kernel': 'rbf', 'C': 100, 'degree': 0.1}\n",
      "0.845 (+/-0.208) for {'kernel': 'rbf', 'C': 100, 'degree': 0.5}\n",
      "0.845 (+/-0.208) for {'kernel': 'rbf', 'C': 100, 'degree': 2}\n",
      "0.845 (+/-0.208) for {'kernel': 'rbf', 'C': 100, 'degree': 3}\n",
      "0.791 (+/-0.210) for {'kernel': 'rbf', 'C': 1000, 'degree': 0.1}\n",
      "0.791 (+/-0.210) for {'kernel': 'rbf', 'C': 1000, 'degree': 0.5}\n",
      "0.791 (+/-0.210) for {'kernel': 'rbf', 'C': 1000, 'degree': 2}\n",
      "0.791 (+/-0.210) for {'kernel': 'rbf', 'C': 1000, 'degree': 3}\n",
      "()\n",
      "Detailed classification report:\n",
      "()\n",
      "The model is trained on the full development set.\n",
      "The scores are computed on the full evaluation set.\n",
      "()\n",
      "             precision    recall  f1-score   support\n",
      "\n",
      "          0       0.88      0.84      0.86       592\n",
      "          1       0.98      0.98      0.98      4408\n",
      "\n",
      "avg / total       0.97      0.97      0.97      5000\n",
      "\n",
      "()\n"
     ]
    }
   ],
   "source": [
    "tuned_parameters = [\n",
    "    {'kernel': ['rbf'], 'degree': [0.1, 0.5, 2, 3], 'C': [1, 10, 100, 1000]},\n",
    "]\n",
    "\n",
    "scores = ['precision', 'recall']\n",
    "\n",
    "for score in scores:\n",
    "    print (\"# Tuning hyper-parameters for %s\" % score)\n",
    "    print ()\n",
    "    \n",
    "    clf = GridSearchCV(svm.SVC(), tuned_parameters, cv=5, scoring='%s_macro' % score)\n",
    "    clf.fit(X_train, y_train)\n",
    "    \n",
    "    print(\"Best parameters set found on development set:\")\n",
    "    print()\n",
    "    print(clf.best_params_)\n",
    "    print()\n",
    "    means = clf.cv_results_['mean_test_score']\n",
    "    stds = clf.cv_results_['std_test_score']\n",
    "    for mean, std, params in zip(means, stds, clf.cv_results_['params']):\n",
    "        print(\"%0.3f (+/-%0.03f) for %r\" % (mean, std * 2, params))\n",
    "    print()\n",
    "        \n",
    "    print(\"Detailed classification report:\")\n",
    "    print()\n",
    "    print(\"The model is trained on the full development set.\")\n",
    "    print(\"The scores are computed on the full evaluation set.\")\n",
    "    print()\n",
    "    y_true, y_pred = y_test, clf.predict(X_test)\n",
    "    print(classification_report(y_true, y_pred))\n",
    "    print()"
   ]
  },
  {
   "cell_type": "code",
   "execution_count": 16,
   "metadata": {
    "ExecuteTime": {
     "end_time": "2017-08-07T02:03:40.618647Z",
     "start_time": "2017-08-06T22:03:40.614202-04:00"
    },
    "collapsed": false
   },
   "outputs": [],
   "source": [
    "clfs = {\n",
    "    'svm-rbf-0.5': svm.SVC(degree=0.5),\n",
    "    'svm-rbf-0.1-c10': svm.SVC(degree=0.1, C=10),\n",
    "}"
   ]
  },
  {
   "cell_type": "code",
   "execution_count": 17,
   "metadata": {
    "ExecuteTime": {
     "end_time": "2017-08-07T02:03:46.940276Z",
     "start_time": "2017-08-06T22:03:45.164093-04:00"
    },
    "collapsed": false
   },
   "outputs": [
    {
     "name": "stdout",
     "output_type": "stream",
     "text": [
      "Confusion matrix for svm-rbf-0.1-c10:\n",
      "[[4341   67]\n",
      " [  92  500]]\n",
      "Confusion matrix for svm-rbf-0.5:\n",
      "[[4320   88]\n",
      " [  29  563]]\n"
     ]
    },
    {
     "data": {
      "image/png": "[encoded data removed]",
      "text/plain": [
       "<matplotlib.figure.Figure at 0x10e52ca10>"
      ]
     },
     "metadata": {},
     "output_type": "display_data"
    }
   ],
   "source": [
    "figure = 1\n",
    "\n",
    "for clf_name, clf in clfs.items():\n",
    "\n",
    "    for color in df.color.unique():\n",
    "        idx = df.color==color\n",
    "        pl.subplot(2, 2, 1)\n",
    "        pl.scatter(df[idx].x, df[idx].y, color=color)\n",
    "        pl.title('Actual')    \n",
    "\n",
    "    figure += 1\n",
    "    \n",
    "    clf.fit(train[cols], train['color_as_int'])\n",
    "    test['predicted_color_as_int'] = clf.predict(test[cols])\n",
    "    test['predicted_color'] = test['predicted_color_as_int'].apply(lambda x: 'red' if x==0 else 'green')\n",
    "    \n",
    "    pl.subplot(2, 2, figure)\n",
    "\n",
    "    for color in test.predicted_color.unique():\n",
    "        idx = test.predicted_color==color\n",
    "        pl.scatter(test[idx].x, test[idx].y, color=color)\n",
    "    \n",
    "    for color in train.color.unique():\n",
    "        idx = train.color==color\n",
    "        pl.scatter(train[idx].x, train[idx].y, color=color)\n",
    "        \n",
    "    train_line_y = np.linspace(0, 10)\n",
    "    train_line_x = np.repeat(10, len(train_line_y))\n",
    "    \n",
    "    pl.plot(train_line_x, train_line_y, 'k--', color='black')\n",
    "    \n",
    "    pl.title(clf_name)\n",
    "    \n",
    "    print \"Confusion matrix for %s:\" % clf_name\n",
    "    print confusion_matrix(test.color, test.predicted_color)\n",
    "\n",
    "pl.gcf().set_size_inches(15,10)\n",
    "pl.show()"
   ]
  },
  {
   "cell_type": "code",
   "execution_count": null,
   "metadata": {
    "collapsed": true
   },
   "outputs": [],
   "source": []
  }
 ],
 "metadata": {
  "kernelspec": {
   "display_name": "Python 2",
   "language": "python",
   "name": "python2"
  },
  "language_info": {
   "codemirror_mode": {
    "name": "ipython",
    "version": 2
   },
   "file_extension": ".py",
   "mimetype": "text/x-python",
   "name": "python",
   "nbconvert_exporter": "python",
   "pygments_lexer": "ipython2",
   "version": "2.7.10"
  },
  "toc": {
   "colors": {
    "hover_highlight": "#DAA520",
    "running_highlight": "#FF0000",
    "selected_highlight": "#FFD700"
   },
   "moveMenuLeft": true,
   "nav_menu": {
    "height": "66px",
    "width": "252px"
   },
   "navigate_menu": true,
   "number_sections": true,
   "sideBar": true,
   "threshold": 4,
   "toc_cell": false,
   "toc_section_display": "block",
   "toc_window_display": false,
   "widenNotebook": false
  }
 },
 "nbformat": 4,
 "nbformat_minor": 2
}
